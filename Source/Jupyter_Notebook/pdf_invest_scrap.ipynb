{
 "cells": [
  {
   "cell_type": "markdown",
   "metadata": {},
   "source": [
    "o programa esta bem \"inseguro\" não há nenhuma verificação de valores dos valores fora da faixa ou tratativas de possiveis erros."
   ]
  },
  {
   "cell_type": "code",
   "execution_count": null,
   "metadata": {},
   "outputs": [],
   "source": [
    "import matplotlib.pyplot as plp\n",
    "import pandas as pd\n",
    "from tabulate import tabulate\n",
    "import tabula"
   ]
  },
  {
   "cell_type": "code",
   "execution_count": null,
   "metadata": {},
   "outputs": [],
   "source": [
    "pdf = tabula.read_pdf('../Data/16-02 a 19-02-23.pdf', pages='all')"
   ]
  },
  {
   "cell_type": "markdown",
   "metadata": {},
   "source": [
    "Transformo somente a tabela de valores de aposta e data em um dataframe do pandas, minha primeira tabela no caso.\n",
    "Read pdf retorna um elemento da lista para cada tabela que encontra."
   ]
  },
  {
   "cell_type": "code",
   "execution_count": null,
   "metadata": {},
   "outputs": [],
   "source": [
    "df = pd.DataFrame(pdf[0])\n",
    "columnName = df.columns[2] #pego o nome da segunda coluna"
   ]
  },
  {
   "cell_type": "markdown",
   "metadata": {},
   "source": [
    "Concateno todas as apostas discriminadas."
   ]
  },
  {
   "cell_type": "code",
   "execution_count": null,
   "metadata": {},
   "outputs": [],
   "source": [
    "tabBets = pd.concat(pdf[1:], ignore_index=True)"
   ]
  },
  {
   "cell_type": "markdown",
   "metadata": {},
   "source": [
    "Abaixo eu separo a coluna em dois, valo investido e o retorno"
   ]
  },
  {
   "cell_type": "code",
   "execution_count": null,
   "metadata": {},
   "outputs": [],
   "source": [
    "# df.info()\n",
    "df.columns=[\"Data\",\"Quantidade apostas\", \"Valor investido\", \"Resultado banca\"]"
   ]
  },
  {
   "cell_type": "code",
   "execution_count": null,
   "metadata": {},
   "outputs": [],
   "source": [
    "df[['Invest', 'Retorno']] = df[\"Valor investido\"].str.split(' / ', expand=True)"
   ]
  },
  {
   "cell_type": "markdown",
   "metadata": {},
   "source": [
    "Removo a coluna que eu separei anteriormente."
   ]
  },
  {
   "cell_type": "code",
   "execution_count": null,
   "metadata": {},
   "outputs": [],
   "source": [
    "df.drop(columns=['Valor investido'], inplace=True)"
   ]
  },
  {
   "cell_type": "markdown",
   "metadata": {},
   "source": [
    "Removo todas as linhas sem apostas e transformo o dia da aposta para o tipo data"
   ]
  },
  {
   "cell_type": "code",
   "execution_count": null,
   "metadata": {},
   "outputs": [],
   "source": [
    "df = df[df['Quantidade apostas'] != 'Sem apostas']\n",
    "df.drop(df.index[-1], inplace=True)\n",
    "df['Data'] = pd.to_datetime(df['Data'], format='%d/%m/%Y')\n",
    "df.info()"
   ]
  },
  {
   "cell_type": "markdown",
   "metadata": {},
   "source": [
    "Transformo o investimento e o retorno e float. Quantidade de apostas em INT."
   ]
  },
  {
   "cell_type": "code",
   "execution_count": null,
   "metadata": {},
   "outputs": [],
   "source": [
    "try:\n",
    "    df['Invest'] = df['Invest'].str.replace('R$ ', '').str.replace('[^\\d.-]', '.').str.replace(',', '.').str.replace(' ', '').astype(float)\n",
    "    df['Retorno'] = df['Retorno'].str.replace('R$ ', '').str.replace('[^\\d.-]', '.').str.replace(',', '.').str.replace(' ', '').astype(float)\n",
    "    df['Quantidade apostas'] = df['Quantidade apostas'].astype(int)\n",
    "    df['Resultado banca'] = df['Resultado banca'].str.replace('%', '').str.replace('[^\\d.-]', '.').str.replace(',', '.').str.replace(' ', '').astype(float)\n",
    "except ValueError as errorCod:\n",
    "    print(\"Unable to convert a value: \", errorCod)"
   ]
  },
  {
   "cell_type": "code",
   "execution_count": null,
   "metadata": {},
   "outputs": [],
   "source": [
    "df.info()\n",
    "df.describe()\n",
    "df"
   ]
  },
  {
   "cell_type": "code",
   "execution_count": null,
   "metadata": {},
   "outputs": [],
   "source": []
  }
 ],
 "metadata": {
  "kernelspec": {
   "display_name": "Python 3",
   "language": "python",
   "name": "python3"
  },
  "language_info": {
   "codemirror_mode": {
    "name": "ipython",
    "version": 3
   },
   "file_extension": ".py",
   "mimetype": "text/x-python",
   "name": "python",
   "nbconvert_exporter": "python",
   "pygments_lexer": "ipython3",
   "version": "3.11.7"
  }
 },
 "nbformat": 4,
 "nbformat_minor": 2
}
