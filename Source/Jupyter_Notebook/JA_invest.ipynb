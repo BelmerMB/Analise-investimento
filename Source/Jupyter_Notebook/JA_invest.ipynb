{
  "cells": [
    {
      "cell_type": "markdown",
      "metadata": {},
      "source": [
        "### From google colab"
      ]
    },
    {
      "cell_type": "code",
      "execution_count": null,
      "metadata": {
        "colab": {
          "base_uri": "https://localhost:8080/"
        },
        "id": "_e1I3dWjSo9r",
        "outputId": "8e6b8a4b-94c7-405a-df60-54b75ad0c6e8"
      },
      "outputs": [],
      "source": [
        "# \"/content/drive/MyDrive/Investimentos/JA-Investimentos\"\n",
        "!pip install tabula-py\n",
        "!apt-get install openjdk-8-jre-headless -qq > /dev/null"
      ]
    },
    {
      "cell_type": "code",
      "execution_count": null,
      "metadata": {
        "id": "AJH3XonTTEsQ"
      },
      "outputs": [],
      "source": [
        "import pandas as pd\n",
        "import tabula\n",
        "import os"
      ]
    },
    {
      "cell_type": "code",
      "execution_count": null,
      "metadata": {
        "colab": {
          "base_uri": "https://localhost:8080/"
        },
        "id": "ya1eTQnzTHlw",
        "outputId": "bb2f8eb6-101f-4b41-c27c-f614385fa28f"
      },
      "outputs": [],
      "source": [
        "path_pdf = \"/content/drive/MyDrive/Investimentos/JA-Investimentos\"\n",
        "tabelas = []\n",
        "for arquivo in os.listdir(path_pdf):\n",
        "    if arquivo.endswith('.pdf'):\n",
        "        # Extrair tabelas da primeira página do arquivo PDF\n",
        "        try:\n",
        "            df = tabula.read_pdf(os.path.join(path_pdf, arquivo), pages=1)[0]\n",
        "            df.columns=[\"Data\",\"Quantidade apostas\", \"Valor investido\", \"Resultado banca\"]\n",
        "            df.drop(df.index[-1], inplace=True)\n",
        "            tabelas.append(df)\n",
        "        except Exception as e:\n",
        "            print(f\"Erro ao processar o arquivo {arquivo}: {e}\")"
      ]
    },
    {
      "cell_type": "code",
      "execution_count": null,
      "metadata": {
        "id": "-68Bs5ewTV1X"
      },
      "outputs": [],
      "source": [
        "df = pd.concat(tabelas, ignore_index=True)"
      ]
    },
    {
      "cell_type": "code",
      "execution_count": null,
      "metadata": {
        "id": "BpcXD_pXUiIJ"
      },
      "outputs": [],
      "source": [
        "df.dropna(how='any', axis=0, inplace=True)"
      ]
    },
    {
      "cell_type": "code",
      "execution_count": null,
      "metadata": {
        "colab": {
          "base_uri": "https://localhost:8080/",
          "height": 231
        },
        "id": "Wz4zH7XrUjhI",
        "outputId": "10b3b478-408f-4082-f8f3-1c83621896f0"
      },
      "outputs": [],
      "source": [
        "df.columns=[\"Data\",\"Quantidade apostas\", \"Valor investido\", \"Resultado banca\"]\n",
        "df[['Invest', 'Retorno']] = df[\"Valor investido\"].str.split(r'\\s*\\/\\s*', expand=True) #separo minha coluna\n",
        "df.drop(columns=['Valor investido'], inplace=True) #Removo a coluna que eu separei anteriormente.\n",
        "df = df[df['Quantidade apostas'] != 'Sem apostas']\n",
        "df.head()\n",
        "df.describe()"
      ]
    },
    {
      "cell_type": "code",
      "execution_count": null,
      "metadata": {
        "colab": {
          "base_uri": "https://localhost:8080/",
          "height": 424
        },
        "id": "LTs1Ooj_Vaag",
        "outputId": "2a5d4693-b08f-4c5a-bb37-c55906ab0336"
      },
      "outputs": [],
      "source": [
        "try:\n",
        "    df['Data'] = pd.to_datetime(df['Data'], format='%d/%m/%Y')\n",
        "    df['Invest'] = df['Invest'].str.replace(r'[^\\d.-]', '', regex=True).astype(float)\n",
        "    df['Retorno'] = df['Retorno'].str.replace(r'[^\\d.-]', '', regex=True).astype(float)\n",
        "    df['Resultado banca'] = df['Resultado banca'].str.replace(' ', '', regex=True).str.replace('--', '-', regex=True)\n",
        "    # Remover o '%' e todos os caracteres não numéricos, exceto o '.' para preservar o ponto decimal\n",
        "    df['Resultado banca'] = df['Resultado banca'].str.replace('%', '').str.replace(r'[^\\d.-]', '', regex=True)\n",
        "    # Substituir múltiplos pontos decimais por apenas um\n",
        "    df['Resultado banca'] = df['Resultado banca'].str.replace(r'\\.{2,}', '.', regex=True)\n",
        "    # Substituir a vírgula por ponto como separador decimal\n",
        "    df['Resultado banca'] = df['Resultado banca'].str.replace(',', '.')\n",
        "    # Converter para float\n",
        "    df['Resultado banca'] = df['Resultado banca'].astype(float)\n",
        "    df['Quantidade apostas'] = df['Quantidade apostas'].astype(int)\n",
        "except ValueError as errorCod:\n",
        "    print(\"Unable to convert a value: \", errorCod)\n",
        "display(df)"
      ]
    },
    {
      "cell_type": "code",
      "execution_count": null,
      "metadata": {
        "colab": {
          "base_uri": "https://localhost:8080/",
          "height": 206
        },
        "id": "fDfFWsSbV-wA",
        "outputId": "185d7c0b-55a7-419c-84fa-6ccf62b25e78"
      },
      "outputs": [],
      "source": [
        "df['Invest'] = df['Invest'] / 100\n",
        "df['Resultado banca'] = df['Resultado banca'] / 10000\n",
        "df['Retorno'] = df['Retorno'] / 100\n",
        "df.head()"
      ]
    },
    {
      "cell_type": "code",
      "execution_count": null,
      "metadata": {
        "colab": {
          "base_uri": "https://localhost:8080/",
          "height": 515
        },
        "id": "U9AFn9tfYYUY",
        "outputId": "55df3bd8-f746-4e31-e5ca-74aeabb78507"
      },
      "outputs": [],
      "source": [
        "df.info()\n",
        "df.describe()"
      ]
    },
    {
      "cell_type": "code",
      "execution_count": null,
      "metadata": {
        "id": "1RBPgW2geMuP"
      },
      "outputs": [],
      "source": [
        "df.to_csv('/content/drive/MyDrive/Investimentos/JA-Investimentos/csv/ate_11-03-24.csv', index=False)"
      ]
    }
  ],
  "metadata": {
    "colab": {
      "provenance": []
    },
    "kernelspec": {
      "display_name": "Python 3",
      "name": "python3"
    },
    "language_info": {
      "name": "python"
    }
  },
  "nbformat": 4,
  "nbformat_minor": 0
}
