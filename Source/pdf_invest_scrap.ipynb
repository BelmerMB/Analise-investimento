{
 "cells": [
  {
   "cell_type": "code",
   "execution_count": 32,
   "metadata": {},
   "outputs": [],
   "source": [
    "import matplotlib.pyplot as plp\n",
    "import pandas as pd\n",
    "from tabulate import tabulate\n",
    "import tabula"
   ]
  },
  {
   "cell_type": "code",
   "execution_count": 33,
   "metadata": {},
   "outputs": [],
   "source": [
    "pdf = tabula.read_pdf('../Data/16-02 a 19-02-23.pdf', pages='all')"
   ]
  },
  {
   "cell_type": "markdown",
   "metadata": {},
   "source": [
    "Transformo somente a tabela de valores de aposta e data em um dataframe do pandas, minha primeira tabela no caso.\n",
    "Read pdf retorna um elemento da lista para cada tabela que encontra."
   ]
  },
  {
   "cell_type": "code",
   "execution_count": 34,
   "metadata": {},
   "outputs": [],
   "source": [
    "df = pd.DataFrame(pdf[0])\n",
    "columnName = df.columns[2] #pego o nome da segunda coluna"
   ]
  },
  {
   "cell_type": "markdown",
   "metadata": {},
   "source": [
    "Concateno todas as apostas discriminadas."
   ]
  },
  {
   "cell_type": "code",
   "execution_count": 35,
   "metadata": {},
   "outputs": [],
   "source": [
    "tabBets = pd.concat(pdf[1:], ignore_index=True)"
   ]
  },
  {
   "cell_type": "markdown",
   "metadata": {},
   "source": [
    "Abaixo eu separo a coluna em dois, valo investido e o retorno"
   ]
  },
  {
   "cell_type": "code",
   "execution_count": 36,
   "metadata": {},
   "outputs": [],
   "source": [
    "df[['Invest', 'Retorno']] = df[columnName].str.split(' / ', expand=True)"
   ]
  },
  {
   "cell_type": "markdown",
   "metadata": {},
   "source": [
    "Removo a coluna que eu separei anteriormente."
   ]
  },
  {
   "cell_type": "code",
   "execution_count": 37,
   "metadata": {},
   "outputs": [],
   "source": [
    "df.drop(columns=columnName, inplace=True)"
   ]
  },
  {
   "cell_type": "markdown",
   "metadata": {},
   "source": [
    "Removo meu index com o valor total, pois da problema com outras funções adiante. O valor total é um dado que eu posso calcular de forma simples após o tratamento de todos os dados."
   ]
  },
  {
   "cell_type": "code",
   "execution_count": 38,
   "metadata": {},
   "outputs": [],
   "source": [
    "# df.info()\n",
    "df = df[df['Dia do\\rinvestimento'] != 'TOTAL']"
   ]
  },
  {
   "cell_type": "code",
   "execution_count": 39,
   "metadata": {},
   "outputs": [],
   "source": [
    "df = df[df['Quantidade de\\rapostas'] != 'Sem apostas']\n",
    "df['Dia do\\rinvestimento'] = pd.to_datetime(df['Dia do\\rinvestimento'], format='%d/%m/%Y')\n",
    "# df.info()\n",
    "# index_names = \n",
    "#modificar - colocar uma variavel com os nomes das colunas e chamar pelo indice (pode haver coluna escrita diferente)\n",
    "df = df.rename(columns={\"Dia do\\rinvestimento\":'Data','Quantidade de\\rapostas':'Quantidade apostas', 'Resultado em %\\rsobre a banca':'resultado sobre a banca'})\n",
    "# df"
   ]
  },
  {
   "cell_type": "code",
   "execution_count": 40,
   "metadata": {},
   "outputs": [],
   "source": [
    "try:\n",
    "    df['Invest'] = df['Invest'].str.replace('R$ ', '').str.replace('[^\\d.-]', '.').str.replace(',', '.').str.replace(' ', '').astype(float)\n",
    "    df['Retorno'] = df['Retorno'].str.replace('R$ ', '').str.replace('[^\\d.-]', '.').str.replace(',', '.').str.replace(' ', '').astype(float)\n",
    "    df['Quantidade apostas'] = df['Quantidade apostas'].astype(int)\n",
    "except ValueError as errorCod:\n",
    "    print(\"Unable to convert a value: \", errorCod)"
   ]
  },
  {
   "cell_type": "code",
   "execution_count": 41,
   "metadata": {},
   "outputs": [
    {
     "name": "stdout",
     "output_type": "stream",
     "text": [
      "<class 'pandas.core.frame.DataFrame'>\n",
      "Index: 4 entries, 0 to 3\n",
      "Data columns (total 5 columns):\n",
      " #   Column                               Non-Null Count  Dtype         \n",
      "---  ------                               --------------  -----         \n",
      " 0   Data                                 4 non-null      datetime64[ns]\n",
      " 1   Quantidade apostas                   4 non-null      int32         \n",
      "em % sobre a banca  4 non-null      object        \n",
      " 3   Invest                               4 non-null      float64       \n",
      " 4   Retorno                              4 non-null      float64       \n",
      "dtypes: datetime64[ns](1), float64(2), int32(1), object(1)\n",
      "memory usage: 176.0+ bytes\n"
     ]
    },
    {
     "data": {
      "text/html": [
       "<div>\n",
       "<style scoped>\n",
       "    .dataframe tbody tr th:only-of-type {\n",
       "        vertical-align: middle;\n",
       "    }\n",
       "\n",
       "    .dataframe tbody tr th {\n",
       "        vertical-align: top;\n",
       "    }\n",
       "\n",
       "    .dataframe thead th {\n",
       "        text-align: right;\n",
       "    }\n",
       "</style>\n",
       "<table border=\"1\" class=\"dataframe\">\n",
       "  <thead>\n",
       "    <tr style=\"text-align: right;\">\n",
       "      <th></th>\n",
       "      <th>Data</th>\n",
       "      <th>Quantidade apostas</th>\n",
       "      <th>Resultado do dia\\rem % sobre a banca</th>\n",
       "      <th>Invest</th>\n",
       "      <th>Retorno</th>\n",
       "    </tr>\n",
       "  </thead>\n",
       "  <tbody>\n",
       "    <tr>\n",
       "      <th>0</th>\n",
       "      <td>2023-02-16</td>\n",
       "      <td>1</td>\n",
       "      <td>+ 0,7750%</td>\n",
       "      <td>12.5</td>\n",
       "      <td>7.75</td>\n",
       "    </tr>\n",
       "    <tr>\n",
       "      <th>1</th>\n",
       "      <td>2023-02-17</td>\n",
       "      <td>1</td>\n",
       "      <td>+ 1,2875%</td>\n",
       "      <td>12.5</td>\n",
       "      <td>12.87</td>\n",
       "    </tr>\n",
       "    <tr>\n",
       "      <th>2</th>\n",
       "      <td>2023-02-18</td>\n",
       "      <td>1</td>\n",
       "      <td>+ 1,3250%</td>\n",
       "      <td>25.0</td>\n",
       "      <td>13.25</td>\n",
       "    </tr>\n",
       "    <tr>\n",
       "      <th>3</th>\n",
       "      <td>2023-02-19</td>\n",
       "      <td>1</td>\n",
       "      <td>+ 1,2500%</td>\n",
       "      <td>25.0</td>\n",
       "      <td>12.50</td>\n",
       "    </tr>\n",
       "  </tbody>\n",
       "</table>\n",
       "</div>"
      ],
      "text/plain": [
       "        Data  Quantidade apostas Resultado do dia\\rem % sobre a banca  Invest  \\\n",
       "0 2023-02-16                   1                            + 0,7750%    12.5   \n",
       "1 2023-02-17                   1                            + 1,2875%    12.5   \n",
       "2 2023-02-18                   1                            + 1,3250%    25.0   \n",
       "3 2023-02-19                   1                            + 1,2500%    25.0   \n",
       "\n",
       "   Retorno  \n",
       "0     7.75  \n",
       "1    12.87  \n",
       "2    13.25  \n",
       "3    12.50  "
      ]
     },
     "execution_count": 41,
     "metadata": {},
     "output_type": "execute_result"
    }
   ],
   "source": [
    "df.info()\n",
    "df.describe()\n",
    "df"
   ]
  }
 ],
 "metadata": {
  "kernelspec": {
   "display_name": "Python 3",
   "language": "python",
   "name": "python3"
  },
  "language_info": {
   "codemirror_mode": {
    "name": "ipython",
    "version": 3
   },
   "file_extension": ".py",
   "mimetype": "text/x-python",
   "name": "python",
   "nbconvert_exporter": "python",
   "pygments_lexer": "ipython3",
   "version": "3.11.7"
  }
 },
 "nbformat": 4,
 "nbformat_minor": 2
}
