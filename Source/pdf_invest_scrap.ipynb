{
 "cells": [
  {
   "cell_type": "code",
   "execution_count": 12,
   "metadata": {},
   "outputs": [],
   "source": [
    "import matplotlib.pyplot as plp\n",
    "import pandas as pd\n",
    "from tabulate import tabulate\n",
    "import tabula"
   ]
  },
  {
   "cell_type": "code",
   "execution_count": 13,
   "metadata": {},
   "outputs": [],
   "source": [
    "pdf = tabula.read_pdf('../Data/19-02 a 25-02.pdf', pages='all')"
   ]
  },
  {
   "cell_type": "markdown",
   "metadata": {},
   "source": [
    "Transformo somente a tabela de valores de aposta e data em um dataframe do pandas, minha primeira tabela no caso.\n",
    "Read pdf retorna um elemento da lista para cada tabela que encontra."
   ]
  },
  {
   "cell_type": "code",
   "execution_count": 14,
   "metadata": {},
   "outputs": [],
   "source": [
    "df = pd.DataFrame(pdf[0])\n",
    "columnName = df.columns[2] #pego o nome da segunda coluna"
   ]
  },
  {
   "cell_type": "markdown",
   "metadata": {},
   "source": [
    "Concateno todas as apostas discriminadas."
   ]
  },
  {
   "cell_type": "code",
   "execution_count": 15,
   "metadata": {},
   "outputs": [],
   "source": [
    "tabBets = pd.concat(pdf[1:], ignore_index=True)"
   ]
  },
  {
   "cell_type": "markdown",
   "metadata": {},
   "source": [
    "Abaixo eu separo a coluna em dois, valo investido e o retorno"
   ]
  },
  {
   "cell_type": "code",
   "execution_count": 16,
   "metadata": {},
   "outputs": [],
   "source": [
    "df[['Invest', 'Retorno']] = df[columnName].str.split(' / ', expand=True)"
   ]
  },
  {
   "cell_type": "markdown",
   "metadata": {},
   "source": [
    "Removo a coluna que eu separei anteriormente."
   ]
  },
  {
   "cell_type": "code",
   "execution_count": 17,
   "metadata": {},
   "outputs": [],
   "source": [
    "df.drop(columns=columnName, inplace=True)"
   ]
  },
  {
   "cell_type": "markdown",
   "metadata": {},
   "source": [
    "Removo meu index com o valor total, pois da problema com outras funções adiante. O valor total é um dado que eu posso calcular de forma simples após o tratamento de todos os dados."
   ]
  },
  {
   "cell_type": "code",
   "execution_count": 18,
   "metadata": {},
   "outputs": [],
   "source": [
    "# df.info()\n",
    "df = df[df['Dia do\\rinvestimento'] != 'TOTAL']"
   ]
  },
  {
   "cell_type": "code",
   "execution_count": 19,
   "metadata": {},
   "outputs": [],
   "source": [
    "df = df[df['Quantidade de\\rapostas'] != 'Sem apostas']\n",
    "df['Dia do\\rinvestimento'] = pd.to_datetime(df['Dia do\\rinvestimento'], format='%d/%m/%Y')\n",
    "# df.info()\n",
    "# index_names = \n",
    "df = df.rename(columns={\"Dia do\\rinvestimento\":'Data','Quantidade de\\rapostas':'Quantidade apostas', 'Resultado em %\\rsobre a banca':'resultado sobre a banca'})\n",
    "# df"
   ]
  },
  {
   "cell_type": "code",
   "execution_count": 20,
   "metadata": {},
   "outputs": [],
   "source": [
    "try:\n",
    "    df['Invest'] = df['Invest'].str.replace('R$ ', '').str.replace('[^\\d.-]', '.').str.replace(',', '.').str.replace(' ', '').astype(float)\n",
    "    df['Retorno'] = df['Retorno'].str.replace('R$ ', '').str.replace('[^\\d.-]', '.').str.replace(',', '.').str.replace(' ', '').astype(float)\n",
    "    df['Quantidade apostas'] = df['Quantidade apostas'].astype(int)\n",
    "except ValueError as errorCod:\n",
    "    print(\"Unable to convert a value: \", errorCod)"
   ]
  },
  {
   "cell_type": "code",
   "execution_count": 21,
   "metadata": {},
   "outputs": [
    {
     "name": "stdout",
     "output_type": "stream",
     "text": [
      "<class 'pandas.core.frame.DataFrame'>\n",
      "Index: 4 entries, 0 to 6\n",
      "Data columns (total 5 columns):\n",
      " #   Column                   Non-Null Count  Dtype         \n",
      "---  ------                   --------------  -----         \n",
      " 0   Data                     4 non-null      datetime64[ns]\n",
      " 1   Quantidade apostas       4 non-null      int32         \n",
      " 2   resultado sobre a banca  4 non-null      object        \n",
      " 3   Invest                   4 non-null      float64       \n",
      " 4   Retorno                  4 non-null      float64       \n",
      "dtypes: datetime64[ns](1), float64(2), int32(1), object(1)\n",
      "memory usage: 176.0+ bytes\n"
     ]
    },
    {
     "data": {
      "text/html": [
       "<div>\n",
       "<style scoped>\n",
       "    .dataframe tbody tr th:only-of-type {\n",
       "        vertical-align: middle;\n",
       "    }\n",
       "\n",
       "    .dataframe tbody tr th {\n",
       "        vertical-align: top;\n",
       "    }\n",
       "\n",
       "    .dataframe thead th {\n",
       "        text-align: right;\n",
       "    }\n",
       "</style>\n",
       "<table border=\"1\" class=\"dataframe\">\n",
       "  <thead>\n",
       "    <tr style=\"text-align: right;\">\n",
       "      <th></th>\n",
       "      <th>Data</th>\n",
       "      <th>Quantidade apostas</th>\n",
       "      <th>resultado sobre a banca</th>\n",
       "      <th>Invest</th>\n",
       "      <th>Retorno</th>\n",
       "    </tr>\n",
       "  </thead>\n",
       "  <tbody>\n",
       "    <tr>\n",
       "      <th>0</th>\n",
       "      <td>2024-02-19</td>\n",
       "      <td>1</td>\n",
       "      <td>+ 1,0192%</td>\n",
       "      <td>28.52</td>\n",
       "      <td>14.54</td>\n",
       "    </tr>\n",
       "    <tr>\n",
       "      <th>2</th>\n",
       "      <td>2024-02-21</td>\n",
       "      <td>2</td>\n",
       "      <td>- 1,9997%</td>\n",
       "      <td>28.52</td>\n",
       "      <td>-28.52</td>\n",
       "    </tr>\n",
       "    <tr>\n",
       "      <th>3</th>\n",
       "      <td>2024-02-22</td>\n",
       "      <td>1</td>\n",
       "      <td>+ 0,9189%</td>\n",
       "      <td>14.26</td>\n",
       "      <td>13.11</td>\n",
       "    </tr>\n",
       "    <tr>\n",
       "      <th>6</th>\n",
       "      <td>2024-02-25</td>\n",
       "      <td>2</td>\n",
       "      <td>+ 2,1784%,</td>\n",
       "      <td>42.78</td>\n",
       "      <td>31.08</td>\n",
       "    </tr>\n",
       "  </tbody>\n",
       "</table>\n",
       "</div>"
      ],
      "text/plain": [
       "        Data  Quantidade apostas resultado sobre a banca  Invest  Retorno\n",
       "0 2024-02-19                   1               + 1,0192%   28.52    14.54\n",
       "2 2024-02-21                   2               - 1,9997%   28.52   -28.52\n",
       "3 2024-02-22                   1               + 0,9189%   14.26    13.11\n",
       "6 2024-02-25                   2              + 2,1784%,   42.78    31.08"
      ]
     },
     "execution_count": 21,
     "metadata": {},
     "output_type": "execute_result"
    }
   ],
   "source": [
    "df.info()\n",
    "df.describe()\n",
    "df"
   ]
  }
 ],
 "metadata": {
  "kernelspec": {
   "display_name": "Python 3",
   "language": "python",
   "name": "python3"
  },
  "language_info": {
   "codemirror_mode": {
    "name": "ipython",
    "version": 3
   },
   "file_extension": ".py",
   "mimetype": "text/x-python",
   "name": "python",
   "nbconvert_exporter": "python",
   "pygments_lexer": "ipython3",
   "version": "3.11.7"
  }
 },
 "nbformat": 4,
 "nbformat_minor": 2
}
